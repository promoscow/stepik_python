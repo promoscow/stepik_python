{
 "cells": [
  {
   "cell_type": "code",
   "execution_count": 2,
   "outputs": [
    {
     "name": "stdout",
     "text": [
      "0\n",
      "1\n",
      "2\n",
      "3\n",
      "4\n",
      "5\n",
      "6\n",
      "7\n",
      "8\n",
      "9\n"
     ],
     "output_type": "stream"
    }
   ],
   "source": [
    "for i in range(10):\n",
    "    print(i)"
   ],
   "metadata": {
    "collapsed": false,
    "pycharm": {
     "name": "#%%\n",
     "is_executing": false
    }
   }
  },
  {
   "cell_type": "code",
   "execution_count": 3,
   "outputs": [
    {
     "name": "stdout",
     "text": [
      "4\n",
      "9\n",
      "16\n"
     ],
     "output_type": "stream"
    }
   ],
   "source": [
    "for i in 2, 3, 4:\n",
    "    print(i * i)"
   ],
   "metadata": {
    "collapsed": false,
    "pycharm": {
     "name": "#%%\n",
     "is_executing": false
    }
   }
  },
  {
   "cell_type": "code",
   "execution_count": null,
   "outputs": [],
   "source": [
    "range(5) # 0, 1, 2, 3, 4\n",
    "range(2, 15, 4) # от 2 до 15 с шагом 4"
   ],
   "metadata": {
    "collapsed": false,
    "pycharm": {
     "name": "#%%\n"
    }
   }
  },
  {
   "cell_type": "code",
   "execution_count": 13,
   "outputs": [
    {
     "name": "stdout",
     "text": [
      "\t5\t6\t7\t8\t9\t\n",
      "4\t20\t24\t28\t32\t36\t\n",
      "5\t25\t30\t35\t40\t45\t\n",
      "6\t30\t36\t42\t48\t54\t\n",
      "7\t35\t42\t49\t56\t63\t\n",
      "8\t40\t48\t56\t64\t72\t\n"
     ],
     "output_type": "stream"
    }
   ],
   "source": [
    "a = int(input())\n",
    "b = int(input())\n",
    "c = int(input())\n",
    "d = int(input())\n",
    "\n",
    "print('', end='\\t')\n",
    "for i in range(c, d + 1):\n",
    "    print(i, end='\\t')\n",
    "print()\n",
    "for i in range(a, b + 1):\n",
    "    print(i, end='\\t')\n",
    "    for j in range(c, d + 1):\n",
    "        print(i * j, end=\"\\t\")\n",
    "    print()"
   ],
   "metadata": {
    "collapsed": false,
    "pycharm": {
     "name": "#%%\n",
     "is_executing": false
    }
   }
  },
  {
   "cell_type": "code",
   "execution_count": 14,
   "outputs": [
    {
     "name": "stdout",
     "text": [
      "4.5\n"
     ],
     "output_type": "stream"
    }
   ],
   "source": [
    "a = int(input())\n",
    "b = int(input())\n",
    "x = []\n",
    "for i in range(a, b + 1):\n",
    "    if i % 3 == 0:\n",
    "        x.append(i)\n",
    "print(sum(x) / len(x))"
   ],
   "metadata": {
    "collapsed": false,
    "pycharm": {
     "name": "#%%\n",
     "is_executing": false
    }
   }
  },
  {
   "cell_type": "code",
   "execution_count": 1,
   "outputs": [
    {
     "name": "stdout",
     "text": [
      "A\n",
      "T\n",
      "G\n",
      "G\n"
     ],
     "output_type": "stream"
    }
   ],
   "source": [
    "genome = 'ATGG'\n",
    "for i in genome: # символы строки как массив, итерация\n",
    "    print(i)"
   ],
   "metadata": {
    "collapsed": false,
    "pycharm": {
     "name": "#%%\n",
     "is_executing": false
    }
   }
  },
  {
   "cell_type": "code",
   "execution_count": 2,
   "outputs": [
    {
     "name": "stdout",
     "text": [
      "2\n"
     ],
     "output_type": "stream"
    }
   ],
   "source": [
    "c = input()\n",
    "print(c.count('C'))"
   ],
   "metadata": {
    "collapsed": false,
    "pycharm": {
     "name": "#%%\n",
     "is_executing": false
    }
   }
  },
  {
   "cell_type": "code",
   "execution_count": 5,
   "outputs": [
    {
     "name": "stdout",
     "text": [
      "SEKUEIRVYTERLIRELSEIUY LSRIUTRSYT RIUTRLSKT W;EORIE YTURKT SGU\n",
      "sekueirvyterlirelseiuy lsriutrsyt riutrlskt w;eorie yturkt sgu\n",
      "1\n",
      "7\n",
      "3\n"
     ],
     "output_type": "stream"
    }
   ],
   "source": [
    "s = 'sekueirvyterlirelSEIUY LSRIUTRSYT RIUTRlskt w;eorie yturkt sgu'\n",
    "print(s.upper())\n",
    "print(s.lower())\n",
    "x = s.count('v')\n",
    "print(x)\n",
    "x = s.find('v')\n",
    "print(x)\n",
    "print(s.upper().count('ls'.upper()))"
   ],
   "metadata": {
    "collapsed": false,
    "pycharm": {
     "name": "#%%\n",
     "is_executing": false
    }
   }
  },
  {
   "cell_type": "code",
   "execution_count": 9,
   "outputs": [
    {
     "name": "stdout",
     "text": [
      "40.0\n"
     ],
     "output_type": "stream"
    }
   ],
   "source": [
    "s = input()\n",
    "print(float((int(s.upper().count('g'.upper())) + int(s.upper().count('c'.upper()))) / len(s)) * 100)\n",
    "\n"
   ],
   "metadata": {
    "collapsed": false,
    "pycharm": {
     "name": "#%%\n",
     "is_executing": false
    }
   }
  },
  {
   "cell_type": "code",
   "execution_count": 14,
   "outputs": [
    {
     "name": "stdout",
     "text": [
      "K\n",
      "KSG\n",
      "LKSG\n",
      "LDIRUG\n",
      "DKGSLDIRUG\n",
      "KSKLR\n",
      "GURIDLSGKDLSGSKL\n"
     ],
     "output_type": "stream"
    }
   ],
   "source": [
    "dna = 'LKSGSLDKGSLDIRUG'\n",
    "print(dna[1])\n",
    "print(dna[1:4])\n",
    "print(dna[:4])\n",
    "print(dna[10:])\n",
    "print(dna[-10:])\n",
    "print(dna[1:-2:3])\n",
    "print(dna[::-1])"
   ],
   "metadata": {
    "collapsed": false,
    "pycharm": {
     "name": "#%%\n",
     "is_executing": false
    }
   }
  },
  {
   "cell_type": "code",
   "execution_count": 16,
   "outputs": [
    {
     "name": "stdout",
     "text": [
      "def\n",
      "abcdef\n",
      "defghijk\n",
      "kjihgfedcba\n",
      "ijk\n",
      "abcde\n",
      "kigec\n"
     ],
     "output_type": "stream"
    }
   ],
   "source": [
    "s = 'abcdefghijk'\n",
    "print(s[3:6])\n",
    "print(s[:6])\n",
    "print(s[3:])\n",
    "print(s[::-1])\n",
    "print(s[-3:])\n",
    "print(s[:-6])\n",
    "print(s[-1:-10:-2])"
   ],
   "metadata": {
    "collapsed": false,
    "pycharm": {
     "name": "#%%\n",
     "is_executing": false
    }
   }
  },
  {
   "cell_type": "code",
   "execution_count": 86,
   "outputs": [
    {
     "name": "stdout",
     "text": [
      "k1s1f1\n"
     ],
     "output_type": "stream"
    }
   ],
   "source": [
    "s = input()\n",
    "first = True\n",
    "current = ''\n",
    "count = 0\n",
    "for i in s:\n",
    "    if first:\n",
    "        current = i\n",
    "        print(i, end='')\n",
    "        first = False\n",
    "        count += 1\n",
    "    else:\n",
    "        if current == i:\n",
    "            count += 1\n",
    "        else:\n",
    "            print(count, end='')\n",
    "            print(i, end='')\n",
    "            current = i\n",
    "            count = 1\n",
    "print(count)"
   ],
   "metadata": {
    "collapsed": false,
    "pycharm": {
     "name": "#%%\n",
     "is_executing": false
    }
   }
  },
  {
   "cell_type": "code",
   "execution_count": 9,
   "outputs": [],
   "source": [
    "students = ['Ivan', 'Masha', 'Sasha']\n",
    "students += ['Olga']\n",
    "students += 'Olga'"
   ],
   "metadata": {
    "collapsed": false,
    "pycharm": {
     "name": "#%%\n",
     "is_executing": false
    }
   }
  },
  {
   "cell_type": "code",
   "execution_count": 39,
   "outputs": [
    {
     "name": "stdout",
     "text": [
      "['Ivan', 'Masha', 'Sasha']\n",
      "Hello, Ivan\n",
      "Hello, Masha\n",
      "Hello, Sasha\n",
      "Masha\n",
      "['Ivan', 'Masha']\n",
      "['Masha', 'Sasha']\n",
      "['Sasha', 'Masha', 'Ivan']\n",
      "['Ivan', 'Masha', 'Sasha', 'Vasya', 'Petya']\n",
      "[0, 1, 2, 0, 1, 2, 0, 1, 2]\n",
      "['Ivan', 'Masha', 'Sasha', 'Masha']\n",
      "['Ivan', 'Masha', 'Sasha', 'Masha', 'Igor']\n",
      "['Ivan', 'Sasha', 'Masha', 'Igor']\n",
      "['Ivan', 'Sasha', 'Igor']\n",
      "['Ivan', 'Masha', 'Sasha', 'Igor']\n",
      "['Masha', 'Sasha', 'Igor']\n",
      "Masha is here!\n",
      "Ann is out\n",
      "0\n",
      "['Igor', 'Masha', 'Sasha', 'Vasily']\n",
      "['Igor', 'Masha', 'Sasha', 'Vasily']\n",
      "Igor\n",
      "Vasily\n",
      "['Vasily', 'Sasha', 'Masha', 'Igor']\n",
      "[42, 'a', 2]\n",
      "[42, 'a', 2]\n"
     ],
     "output_type": "stream"
    }
   ],
   "source": [
    "students = ['Ivan', 'Masha', 'Sasha']\n",
    "print(students)\n",
    "for i in students:\n",
    "    print(\"Hello, \" + i)\n",
    "print(students[1])\n",
    "print(students[:2])\n",
    "print(students[1:])\n",
    "print(students[::-1])\n",
    "teachers = ['Vasya', 'Petya']\n",
    "print(students + teachers)\n",
    "print([0, 1, 2] * 3)\n",
    "students += ['Masha']\n",
    "print(students)\n",
    "students.append('Igor')\n",
    "print(students)\n",
    "students.remove('Masha') # удаляется только один элемент, хотя, на самом деле, их два\n",
    "print(students)\n",
    "students.remove('Masha')\n",
    "print(students)\n",
    "students.insert(1, 'Masha')\n",
    "print(students)\n",
    "del students[0]\n",
    "print(students)\n",
    "if 'Masha' in students:\n",
    "    print('Masha is here!')\n",
    "if 'Ann' not in students:\n",
    "    print('Ann is out')\n",
    "print(students.index('Masha'))\n",
    "# print(students.index('Ann'))\n",
    "students.insert(0, 'Vasily')\n",
    "ordered_students = sorted(students)\n",
    "print(ordered_students)\n",
    "students.sort()\n",
    "print(students)\n",
    "print(min(students))\n",
    "print(max(students))\n",
    "students.reverse()\n",
    "print(students)\n",
    "a = [1, 'a', 2]\n",
    "b = a\n",
    "a[0] = 42\n",
    "print(a)\n",
    "print(b)"
   ],
   "metadata": {
    "collapsed": false,
    "pycharm": {
     "name": "#%%\n",
     "is_executing": false
    }
   }
  },
  {
   "cell_type": "code",
   "execution_count": 48,
   "outputs": [
    {
     "name": "stdout",
     "text": [
      "[0, 0, 0, 0, 0]\n",
      "[0, 0, 0, 0, 0]\n",
      "[0, 1, 4, 9, 16]\n",
      "[1, 1, 1, 1, 1, 1, 1]\n"
     ],
     "output_type": "stream"
    }
   ],
   "source": [
    "a = [0] * 5\n",
    "print(a)\n",
    "a = [0 for i in range(5)]\n",
    "print(a)\n",
    "a = [i * i for i in range(5)]\n",
    "print(a)\n",
    "a = [int(i) for i in input().split()]\n",
    "print(a)"
   ],
   "metadata": {
    "collapsed": false,
    "pycharm": {
     "name": "#%%\n",
     "is_executing": false
    }
   }
  },
  {
   "cell_type": "code",
   "execution_count": 49,
   "outputs": [
    {
     "name": "stdout",
     "text": [
      "6\n"
     ],
     "output_type": "stream"
    }
   ],
   "source": [
    "a = [int(i) for i in input().split()]\n",
    "print(sum(a))\n",
    "\n"
   ],
   "metadata": {
    "collapsed": false,
    "pycharm": {
     "name": "#%%\n",
     "is_executing": false
    }
   }
  },
  {
   "cell_type": "code",
   "execution_count": 83,
   "outputs": [
    {
     "name": "stdout",
     "text": [
      "3 4 6 8 10 12 14 16 8 10 1\n"
     ],
     "output_type": "stream"
    }
   ],
   "source": [
    "s = input().split()\n",
    "counter = 0\n",
    "if len(s) == 1:\n",
    "    print(s[0])\n",
    "else:\n",
    "    for i in s:\n",
    "        if counter < len(s) - 1:\n",
    "            a = int(s[counter + 1])\n",
    "            b = int(s[counter - 1])\n",
    "            result = a + b\n",
    "            print(result, end=' ')\n",
    "            counter += 1\n",
    "        elif counter == len(s) - 1:\n",
    "            a = int(s[0])\n",
    "            b = int(s[counter - 1])\n",
    "            result = a + b\n",
    "            print(result)\n",
    "            counter += 1"
   ],
   "metadata": {
    "collapsed": false,
    "pycharm": {
     "name": "#%%\n",
     "is_executing": false
    }
   }
  },
  {
   "cell_type": "code",
   "execution_count": 95,
   "outputs": [
    {
     "name": "stdout",
     "text": [
      "1 2"
     ],
     "output_type": "stream"
    }
   ],
   "source": [
    "s = input().split()\n",
    "s.sort()\n",
    "first = True\n",
    "current = ''\n",
    "count = 0\n",
    "x = []\n",
    "for i in s:\n",
    "    if first:\n",
    "        current = i\n",
    "        first = False\n",
    "        count += 1\n",
    "    else:\n",
    "        if current == i:\n",
    "            if count == 1:\n",
    "                x.append(i)\n",
    "                x.append(' ')\n",
    "                count += 1\n",
    "        else:\n",
    "            current = i\n",
    "            count = 1\n",
    "for i in range(len(x) - 1):\n",
    "    print(x[i], end='')"
   ],
   "metadata": {
    "collapsed": false,
    "pycharm": {
     "name": "#%%\n",
     "is_executing": false
    }
   }
  },
  {
   "cell_type": "code",
   "execution_count": 97,
   "outputs": [
    {
     "name": "stdout",
     "text": [
      "[12, 1, 1]\n",
      "1\n"
     ],
     "output_type": "stream"
    }
   ],
   "source": [
    "a = [[1, 2, 3], [12, 1, 1], [5, 6, 3]]\n",
    "print(a[1])\n",
    "print(a[1][1])\n"
   ],
   "metadata": {
    "collapsed": false,
    "pycharm": {
     "name": "#%%\n",
     "is_executing": false
    }
   }
  },
  {
   "cell_type": "code",
   "execution_count": 98,
   "outputs": [
    {
     "name": "stdout",
     "text": [
      "[1, 5, 4, 6, 4, 5, 9]\n"
     ],
     "output_type": "stream"
    }
   ],
   "source": [
    "a = [int(i) for i in input().split()]\n",
    "print(a)"
   ],
   "metadata": {
    "collapsed": false,
    "pycharm": {
     "name": "#%%\n",
     "is_executing": false
    }
   }
  },
  {
   "cell_type": "code",
   "execution_count": 100,
   "outputs": [
    {
     "name": "stdout",
     "text": [
      "340\n"
     ],
     "output_type": "stream"
    }
   ],
   "source": [
    "check_sum = 0\n",
    "squares = 0\n",
    "while True:\n",
    "    s = int(input())\n",
    "    check_sum += s\n",
    "    squares += s * s\n",
    "    if check_sum == 0:\n",
    "        break\n",
    "print(squares)\n",
    "    "
   ],
   "metadata": {
    "collapsed": false,
    "pycharm": {
     "name": "#%%\n",
     "is_executing": false
    }
   }
  },
  {
   "cell_type": "code",
   "execution_count": 106,
   "outputs": [
    {
     "name": "stdout",
     "text": [
      "1 2 2 3 3 3 4 4 4 4"
     ],
     "output_type": "stream"
    }
   ],
   "source": [
    "n = int(input())\n",
    "x = 1\n",
    "counter = 0\n",
    "result = []\n",
    "while True:\n",
    "    for i in range(x):\n",
    "        result.append(x)\n",
    "        result.append(' ')\n",
    "        counter += 1\n",
    "        if counter == n:\n",
    "            break\n",
    "    x += 1\n",
    "    if counter == n:\n",
    "        break\n",
    "for i in range(len(result) - 1):\n",
    "    print(result[i], end='')"
   ],
   "metadata": {
    "collapsed": false,
    "pycharm": {
     "name": "#%%\n",
     "is_executing": false
    }
   }
  },
  {
   "cell_type": "code",
   "execution_count": 2,
   "outputs": [
    {
     "traceback": [
      "\u001b[1;31m---------------------------------------------------------------------------\u001b[0m",
      "\u001b[1;31mValueError\u001b[0m                                Traceback (most recent call last)",
      "\u001b[1;32m<ipython-input-2-c1874855d8df>\u001b[0m in \u001b[0;36m<module>\u001b[1;34m\u001b[0m\n\u001b[0;32m      1\u001b[0m \u001b[1;31m# pydev_debug_cell\u001b[0m\u001b[1;33m\u001b[0m\u001b[1;33m\u001b[0m\u001b[1;33m\u001b[0m\u001b[0m\n\u001b[0;32m      2\u001b[0m \u001b[0mlst\u001b[0m \u001b[1;33m=\u001b[0m \u001b[1;33m[\u001b[0m\u001b[0mint\u001b[0m\u001b[1;33m(\u001b[0m\u001b[0mi\u001b[0m\u001b[1;33m)\u001b[0m \u001b[1;32mfor\u001b[0m \u001b[0mi\u001b[0m \u001b[1;32min\u001b[0m \u001b[0minput\u001b[0m\u001b[1;33m(\u001b[0m\u001b[1;33m)\u001b[0m\u001b[1;33m.\u001b[0m\u001b[0msplit\u001b[0m\u001b[1;33m(\u001b[0m\u001b[1;33m)\u001b[0m\u001b[1;33m]\u001b[0m\u001b[1;33m\u001b[0m\u001b[1;33m\u001b[0m\u001b[0m\n\u001b[1;32m----> 3\u001b[1;33m \u001b[0mx\u001b[0m \u001b[1;33m=\u001b[0m \u001b[0mint\u001b[0m\u001b[1;33m(\u001b[0m\u001b[0minput\u001b[0m\u001b[1;33m(\u001b[0m\u001b[1;33m)\u001b[0m\u001b[1;33m)\u001b[0m\u001b[1;33m\u001b[0m\u001b[1;33m\u001b[0m\u001b[0m\n\u001b[0m\u001b[0;32m      4\u001b[0m \u001b[0mresult\u001b[0m \u001b[1;33m=\u001b[0m \u001b[1;33m[\u001b[0m\u001b[1;33m]\u001b[0m\u001b[1;33m\u001b[0m\u001b[1;33m\u001b[0m\u001b[0m\n\u001b[0;32m      5\u001b[0m \u001b[1;32mfor\u001b[0m \u001b[0mi\u001b[0m \u001b[1;32min\u001b[0m \u001b[0mrange\u001b[0m\u001b[1;33m(\u001b[0m\u001b[0mlen\u001b[0m\u001b[1;33m(\u001b[0m\u001b[0mlst\u001b[0m\u001b[1;33m)\u001b[0m\u001b[1;33m)\u001b[0m\u001b[1;33m:\u001b[0m\u001b[1;33m\u001b[0m\u001b[1;33m\u001b[0m\u001b[0m\n",
      "\u001b[1;31mValueError\u001b[0m: invalid literal for int() with base 10: '0 7 -1'"
     ],
     "ename": "ValueError",
     "evalue": "invalid literal for int() with base 10: '0 7 -1'",
     "output_type": "error"
    }
   ],
   "source": [
    "lst = [int(i) for i in input().split()]\n",
    "x = int(input())\n",
    "result = []\n",
    "for i in range(len(lst)):\n",
    "    if x == lst[i]:\n",
    "        result.append(i)\n",
    "        result.append(' ')\n",
    "for i in range(len(result) - 1):\n",
    "    print(result[i], end='')\n",
    "if len(result) == 0:\n",
    "    print('Отсутствует')"
   ],
   "metadata": {
    "collapsed": false,
    "pycharm": {
     "name": "#%%\n",
     "is_executing": false
    }
   }
  },
  {
   "cell_type": "code",
   "execution_count": 10,
   "outputs": [
    {
     "name": "stdout",
     "text": [
      "3 21 22 \n",
      "10 6 19 \n",
      "20 16 -1 \n"
     ],
     "output_type": "stream"
    }
   ],
   "source": [
    "a = []\n",
    "while True:\n",
    "    s = input()\n",
    "    if s.__eq__('end'):\n",
    "        break\n",
    "    a.append([int(i) for i in s.split()])\n",
    "result = []\n",
    "for i in range(len(a)):\n",
    "    line = []\n",
    "    for j in range(len(a[i])):\n",
    "        f = i - 1\n",
    "        if i == len(a) - 1:\n",
    "            g = 0\n",
    "        else:\n",
    "            g = i + 1\n",
    "        h = j - 1\n",
    "        if j == len(a[i]) - 1:\n",
    "            d = 0\n",
    "        else:\n",
    "            d = j + 1\n",
    "        x = a[f][j] + a[g][j] + a[i][h] + a[i][d]\n",
    "        line.append(x)\n",
    "    result.append(line)\n",
    "for i in result:\n",
    "    for j in i:\n",
    "        print(j, end=' ')\n",
    "    print()"
   ],
   "metadata": {
    "collapsed": false,
    "pycharm": {
     "name": "#%%\n",
     "is_executing": false
    }
   }
  },
  {
   "cell_type": "code",
   "execution_count": 53,
   "outputs": [
    {
     "name": "stdout",
     "text": [
      "1 2 3 4 5 6 7 \n",
      "24 25 26 27 28 29 8 \n",
      "23 40 41 42 43 30 9 \n",
      "22 39 48 49 44 31 10 \n",
      "21 38 47 46 45 32 11 \n",
      "20 37 36 35 34 33 12 \n",
      "19 18 17 16 15 14 13 \n"
     ],
     "output_type": "stream"
    }
   ],
   "source": [
    "n = int(input())\n",
    "\n",
    "if n == 1:\n",
    "    print(n)\n",
    "else:\n",
    "    direction = 'left'\n",
    "    result = [[0 for j in range(n)] for u in range(n)]\n",
    "    x = 0\n",
    "    y = 0\n",
    "    count_in_line = 0\n",
    "    max_count_in_line = n\n",
    "    for i in range(n * n + 1):\n",
    "        if i == 0:\n",
    "            continue\n",
    "        count_in_line += 1\n",
    "        result[y][x] = i\n",
    "        if direction.__eq__('left'):\n",
    "            if count_in_line % max_count_in_line == 0 or (x < n and result[y][x + 1] != 0):\n",
    "                direction = 'down'\n",
    "                count_in_line = 1\n",
    "            else:\n",
    "                x += 1\n",
    "        if direction.__eq__('down'):\n",
    "            if count_in_line % max_count_in_line == 0 or (y < n and result[y + 1][x] != 0):\n",
    "                direction = 'right'\n",
    "                count_in_line = 1\n",
    "            else:\n",
    "                y += 1\n",
    "        if direction.__eq__('right'):\n",
    "            if count_in_line % max_count_in_line == 0 or (x > 0 and result[y][x - 1] != 0):\n",
    "                direction = 'up'\n",
    "                count_in_line = 1\n",
    "                max_count_in_line -= 1\n",
    "            else:\n",
    "                x -= 1\n",
    "        if direction.__eq__('up'):\n",
    "            if count_in_line % max_count_in_line == 0 or (y > 0 and result[y - 1][x] != 0):\n",
    "                direction = 'left'\n",
    "                count_in_line = 1\n",
    "                x += 1\n",
    "            else:\n",
    "                y -= 1\n",
    "    for i in result:\n",
    "        for j in i:\n",
    "            print(j, end=' ')\n",
    "        print()\n"
   ],
   "metadata": {
    "collapsed": false,
    "pycharm": {
     "name": "#%%\n",
     "is_executing": false
    }
   }
  }
 ],
 "metadata": {
  "kernelspec": {
   "display_name": "Python 3",
   "language": "python",
   "name": "python3"
  },
  "language_info": {
   "codemirror_mode": {
    "name": "ipython",
    "version": 2
   },
   "file_extension": ".py",
   "mimetype": "text/x-python",
   "name": "python",
   "nbconvert_exporter": "python",
   "pygments_lexer": "ipython2",
   "version": "2.7.6"
  },
  "pycharm": {
   "stem_cell": {
    "cell_type": "raw",
    "source": [],
    "metadata": {
     "collapsed": false
    }
   }
  }
 },
 "nbformat": 4,
 "nbformat_minor": 0
}